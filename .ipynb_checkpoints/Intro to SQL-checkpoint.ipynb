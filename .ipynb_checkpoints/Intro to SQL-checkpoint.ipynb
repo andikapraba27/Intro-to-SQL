{
 "cells": [
  {
   "cell_type": "markdown",
   "metadata": {},
   "source": [
    "![](images/header.png)"
   ]
  },
  {
   "cell_type": "markdown",
   "metadata": {},
   "source": [
    "---\n",
    "Data yang tersimpan didalam database MySQL mmepunyai bentuk yang serupa dengan <i>data.frame</i>. MFM kali ini akan membahas penggunaan RDBMS MySQL dengan R. Untuk databasenya sendiri terdiri sembilan tabel yang saling terelasi, dihosting secara online di http://freemysqlhosting.net dan tiap tabel sudah memiliki key masing-masing baik Primary Key atau Foreign Key. Dibawah sudah dilampirkan skema rancangan database <b>sql12258414</b>.\n",
    "\n",
    "Library atau package yang akan digunakan adalah RMySQL yang memungkinkan kita menuliskan SQL query dan mengeksekusinya dengan R. Adapun RMySQL tergantung/mempunyai dependensi dengan library DBI.\n",
    "\n",
    "---"
   ]
  },
  {
   "cell_type": "markdown",
   "metadata": {},
   "source": [
    "### Database \"sql12259976\""
   ]
  },
  {
   "cell_type": "markdown",
   "metadata": {},
   "source": [
    "![database_relationship](images/qqq-1.png)\n",
    "\n",
    "---"
   ]
  },
  {
   "cell_type": "markdown",
   "metadata": {},
   "source": [
    "### <i>Load</i> library RMySQL"
   ]
  },
  {
   "cell_type": "code",
   "execution_count": 3,
   "metadata": {},
   "outputs": [
    {
     "name": "stderr",
     "output_type": "stream",
     "text": [
      "Warning message:\n",
      "\"unable to access index for repository http://www.stats.ox.ac.uk/pub/RWin/bin/windows/contrib/3.5:\n",
      "  cannot open URL 'http://www.stats.ox.ac.uk/pub/RWin/bin/windows/contrib/3.5/PACKAGES'\"Warning message:\n",
      "\"package 'DBI' is in use and will not be installed\"Warning message:\n",
      "\"unable to access index for repository http://www.stats.ox.ac.uk/pub/RWin/bin/windows/contrib/3.5:\n",
      "  cannot open URL 'http://www.stats.ox.ac.uk/pub/RWin/bin/windows/contrib/3.5/PACKAGES'\"Warning message:\n",
      "\"package 'RMySQL' is in use and will not be installed\""
     ]
    }
   ],
   "source": [
    "# install DBI package for R\n",
    "install.packages(\"DBI\")\n",
    "# ----------------------------\n",
    "# install RMySQL package for R\n",
    "install.packages(\"RMySQL\")\n",
    "library(RMySQL)"
   ]
  },
  {
   "cell_type": "markdown",
   "metadata": {},
   "source": [
    "### Buat koneksi dengan database sql12259976"
   ]
  },
  {
   "cell_type": "code",
   "execution_count": 4,
   "metadata": {},
   "outputs": [],
   "source": [
    "mydb = dbConnect(MySQL(), \n",
    "    user='sql12259976', \n",
    "    password='9ap7vT4XSb', \n",
    "    dbname='sql12259976', \n",
    "    host='sql12.freemysqlhosting.net')"
   ]
  },
  {
   "cell_type": "markdown",
   "metadata": {},
   "source": [
    "### Tampilkan tabel yang terdapat didalam database \"sql12259976\""
   ]
  },
  {
   "cell_type": "code",
   "execution_count": 5,
   "metadata": {},
   "outputs": [
    {
     "data": {
      "text/html": [
       "<ol class=list-inline>\n",
       "\t<li>'actor'</li>\n",
       "\t<li>'director'</li>\n",
       "\t<li>'genres'</li>\n",
       "\t<li>'movie'</li>\n",
       "\t<li>'movie_cast'</li>\n",
       "\t<li>'movie_direction'</li>\n",
       "\t<li>'movie_genres'</li>\n",
       "\t<li>'rating'</li>\n",
       "\t<li>'reviewer'</li>\n",
       "</ol>\n"
      ],
      "text/latex": [
       "\\begin{enumerate*}\n",
       "\\item 'actor'\n",
       "\\item 'director'\n",
       "\\item 'genres'\n",
       "\\item 'movie'\n",
       "\\item 'movie\\_cast'\n",
       "\\item 'movie\\_direction'\n",
       "\\item 'movie\\_genres'\n",
       "\\item 'rating'\n",
       "\\item 'reviewer'\n",
       "\\end{enumerate*}\n"
      ],
      "text/markdown": [
       "1. 'actor'\n",
       "2. 'director'\n",
       "3. 'genres'\n",
       "4. 'movie'\n",
       "5. 'movie_cast'\n",
       "6. 'movie_direction'\n",
       "7. 'movie_genres'\n",
       "8. 'rating'\n",
       "9. 'reviewer'\n",
       "\n",
       "\n"
      ],
      "text/plain": [
       "[1] \"actor\"           \"director\"        \"genres\"          \"movie\"          \n",
       "[5] \"movie_cast\"      \"movie_direction\" \"movie_genres\"    \"rating\"         \n",
       "[9] \"reviewer\"       "
      ]
     },
     "metadata": {},
     "output_type": "display_data"
    }
   ],
   "source": [
    "dbListTables(mydb)"
   ]
  },
  {
   "cell_type": "markdown",
   "metadata": {},
   "source": [
    "### Tampilkan field yang terdapat didalam tabel \"movie\""
   ]
  },
  {
   "cell_type": "code",
   "execution_count": 14,
   "metadata": {},
   "outputs": [
    {
     "data": {
      "text/html": [
       "<ol class=list-inline>\n",
       "\t<li>'act_id'</li>\n",
       "\t<li>'act_fname'</li>\n",
       "\t<li>'act_lname'</li>\n",
       "\t<li>'act_gender'</li>\n",
       "</ol>\n"
      ],
      "text/latex": [
       "\\begin{enumerate*}\n",
       "\\item 'act\\_id'\n",
       "\\item 'act\\_fname'\n",
       "\\item 'act\\_lname'\n",
       "\\item 'act\\_gender'\n",
       "\\end{enumerate*}\n"
      ],
      "text/markdown": [
       "1. 'act_id'\n",
       "2. 'act_fname'\n",
       "3. 'act_lname'\n",
       "4. 'act_gender'\n",
       "\n",
       "\n"
      ],
      "text/plain": [
       "[1] \"act_id\"     \"act_fname\"  \"act_lname\"  \"act_gender\""
      ]
     },
     "metadata": {},
     "output_type": "display_data"
    }
   ],
   "source": [
    "dbListFields(mydb, 'movie')"
   ]
  },
  {
   "cell_type": "markdown",
   "metadata": {},
   "source": [
    "---\n",
    "## SELECT\n",
    "---"
   ]
  },
  {
   "cell_type": "markdown",
   "metadata": {},
   "source": [
    "### Select basic - Tampilkan 6 data teratas dari tabel \"movie\""
   ]
  },
  {
   "cell_type": "code",
   "execution_count": 7,
   "metadata": {},
   "outputs": [
    {
     "data": {
      "text/html": [
       "<table>\n",
       "<thead><tr><th scope=col>mov_id</th><th scope=col>mov_title</th><th scope=col>mov_year</th><th scope=col>mov_time</th><th scope=col>mov_lang</th><th scope=col>mov_dt_rel</th><th scope=col>mov_rel_country</th></tr></thead>\n",
       "<tbody>\n",
       "\t<tr><td>901               </td><td>Vertigo           </td><td>1958              </td><td>128               </td><td>English           </td><td>1958-08-24        </td><td>UK                </td></tr>\n",
       "\t<tr><td>902               </td><td>The Innocents     </td><td>1961              </td><td>100               </td><td>English           </td><td>1962-02-19        </td><td>SW                </td></tr>\n",
       "\t<tr><td>903               </td><td>Lawrence of Arabia</td><td>1962              </td><td>216               </td><td>English           </td><td>1962-12-11        </td><td>UK                </td></tr>\n",
       "\t<tr><td>904               </td><td>The Deer Hunter   </td><td>1978              </td><td>183               </td><td>English           </td><td>1979-03-08        </td><td>UK                </td></tr>\n",
       "\t<tr><td>905               </td><td>Amadeus           </td><td>1984              </td><td>160               </td><td>English           </td><td>1985-01-07        </td><td>UK                </td></tr>\n",
       "\t<tr><td>906               </td><td>Blade Runner      </td><td>1982              </td><td>117               </td><td>English           </td><td>1982-09-09        </td><td>UK                </td></tr>\n",
       "</tbody>\n",
       "</table>\n"
      ],
      "text/latex": [
       "\\begin{tabular}{r|lllllll}\n",
       " mov\\_id & mov\\_title & mov\\_year & mov\\_time & mov\\_lang & mov\\_dt\\_rel & mov\\_rel\\_country\\\\\n",
       "\\hline\n",
       "\t 901                & Vertigo            & 1958               & 128                & English            & 1958-08-24         & UK                \\\\\n",
       "\t 902                & The Innocents      & 1961               & 100                & English            & 1962-02-19         & SW                \\\\\n",
       "\t 903                & Lawrence of Arabia & 1962               & 216                & English            & 1962-12-11         & UK                \\\\\n",
       "\t 904                & The Deer Hunter    & 1978               & 183                & English            & 1979-03-08         & UK                \\\\\n",
       "\t 905                & Amadeus            & 1984               & 160                & English            & 1985-01-07         & UK                \\\\\n",
       "\t 906                & Blade Runner       & 1982               & 117                & English            & 1982-09-09         & UK                \\\\\n",
       "\\end{tabular}\n"
      ],
      "text/markdown": [
       "\n",
       "mov_id | mov_title | mov_year | mov_time | mov_lang | mov_dt_rel | mov_rel_country | \n",
       "|---|---|---|---|---|---|\n",
       "| 901                | Vertigo            | 1958               | 128                | English            | 1958-08-24         | UK                 | \n",
       "| 902                | The Innocents      | 1961               | 100                | English            | 1962-02-19         | SW                 | \n",
       "| 903                | Lawrence of Arabia | 1962               | 216                | English            | 1962-12-11         | UK                 | \n",
       "| 904                | The Deer Hunter    | 1978               | 183                | English            | 1979-03-08         | UK                 | \n",
       "| 905                | Amadeus            | 1984               | 160                | English            | 1985-01-07         | UK                 | \n",
       "| 906                | Blade Runner       | 1982               | 117                | English            | 1982-09-09         | UK                 | \n",
       "\n",
       "\n"
      ],
      "text/plain": [
       "  mov_id mov_title          mov_year mov_time mov_lang mov_dt_rel\n",
       "1 901    Vertigo            1958     128      English  1958-08-24\n",
       "2 902    The Innocents      1961     100      English  1962-02-19\n",
       "3 903    Lawrence of Arabia 1962     216      English  1962-12-11\n",
       "4 904    The Deer Hunter    1978     183      English  1979-03-08\n",
       "5 905    Amadeus            1984     160      English  1985-01-07\n",
       "6 906    Blade Runner       1982     117      English  1982-09-09\n",
       "  mov_rel_country\n",
       "1 UK             \n",
       "2 SW             \n",
       "3 UK             \n",
       "4 UK             \n",
       "5 UK             \n",
       "6 UK             "
      ]
     },
     "metadata": {},
     "output_type": "display_data"
    }
   ],
   "source": [
    "str.query = dbSendQuery(mydb, \"SELECT * FROM movie\")\n",
    "movie.data = fetch(str.query, n=-1)\n",
    "head(movie.data)"
   ]
  },
  {
   "cell_type": "markdown",
   "metadata": {},
   "source": [
    "![select 1](images/select1.png)"
   ]
  },
  {
   "cell_type": "markdown",
   "metadata": {},
   "source": [
    "### Select basic - Tampilkan 6 judul film teratas beserta negara rilisnya"
   ]
  },
  {
   "cell_type": "code",
   "execution_count": 8,
   "metadata": {},
   "outputs": [
    {
     "data": {
      "text/html": [
       "<table>\n",
       "<thead><tr><th scope=col>mov_title</th><th scope=col>mov_rel_country</th></tr></thead>\n",
       "<tbody>\n",
       "\t<tr><td>Vertigo           </td><td>UK                </td></tr>\n",
       "\t<tr><td>The Innocents     </td><td>SW                </td></tr>\n",
       "\t<tr><td>Lawrence of Arabia</td><td>UK                </td></tr>\n",
       "\t<tr><td>The Deer Hunter   </td><td>UK                </td></tr>\n",
       "\t<tr><td>Amadeus           </td><td>UK                </td></tr>\n",
       "\t<tr><td>Blade Runner      </td><td>UK                </td></tr>\n",
       "</tbody>\n",
       "</table>\n"
      ],
      "text/latex": [
       "\\begin{tabular}{r|ll}\n",
       " mov\\_title & mov\\_rel\\_country\\\\\n",
       "\\hline\n",
       "\t Vertigo            & UK                \\\\\n",
       "\t The Innocents      & SW                \\\\\n",
       "\t Lawrence of Arabia & UK                \\\\\n",
       "\t The Deer Hunter    & UK                \\\\\n",
       "\t Amadeus            & UK                \\\\\n",
       "\t Blade Runner       & UK                \\\\\n",
       "\\end{tabular}\n"
      ],
      "text/markdown": [
       "\n",
       "mov_title | mov_rel_country | \n",
       "|---|---|---|---|---|---|\n",
       "| Vertigo            | UK                 | \n",
       "| The Innocents      | SW                 | \n",
       "| Lawrence of Arabia | UK                 | \n",
       "| The Deer Hunter    | UK                 | \n",
       "| Amadeus            | UK                 | \n",
       "| Blade Runner       | UK                 | \n",
       "\n",
       "\n"
      ],
      "text/plain": [
       "  mov_title          mov_rel_country\n",
       "1 Vertigo            UK             \n",
       "2 The Innocents      SW             \n",
       "3 Lawrence of Arabia UK             \n",
       "4 The Deer Hunter    UK             \n",
       "5 Amadeus            UK             \n",
       "6 Blade Runner       UK             "
      ]
     },
     "metadata": {},
     "output_type": "display_data"
    }
   ],
   "source": [
    "str.query = dbSendQuery(mydb, \"SELECT mov_title, mov_rel_country FROM movie\")\n",
    "movie.data = fetch(str.query, n=-1)\n",
    "head(movie.data)"
   ]
  },
  {
   "cell_type": "markdown",
   "metadata": {},
   "source": [
    "![select 2](images/select2.png)"
   ]
  },
  {
   "cell_type": "markdown",
   "metadata": {},
   "source": [
    "### Select basic - Tampilkan 6 data teratas dari tabel \"actor\""
   ]
  },
  {
   "cell_type": "code",
   "execution_count": 9,
   "metadata": {},
   "outputs": [
    {
     "data": {
      "text/html": [
       "<table>\n",
       "<thead><tr><th scope=col>act_fname</th><th scope=col>act_lname</th></tr></thead>\n",
       "<tbody>\n",
       "\t<tr><td>James    </td><td>Stewart  </td></tr>\n",
       "\t<tr><td>Deborah  </td><td>Kerr     </td></tr>\n",
       "\t<tr><td>Peter    </td><td>OToole   </td></tr>\n",
       "\t<tr><td>Robert   </td><td>De Niro  </td></tr>\n",
       "\t<tr><td>F. Murray</td><td>Abraham  </td></tr>\n",
       "\t<tr><td>Harrison </td><td>Ford     </td></tr>\n",
       "</tbody>\n",
       "</table>\n"
      ],
      "text/latex": [
       "\\begin{tabular}{r|ll}\n",
       " act\\_fname & act\\_lname\\\\\n",
       "\\hline\n",
       "\t James     & Stewart  \\\\\n",
       "\t Deborah   & Kerr     \\\\\n",
       "\t Peter     & OToole   \\\\\n",
       "\t Robert    & De Niro  \\\\\n",
       "\t F. Murray & Abraham  \\\\\n",
       "\t Harrison  & Ford     \\\\\n",
       "\\end{tabular}\n"
      ],
      "text/markdown": [
       "\n",
       "act_fname | act_lname | \n",
       "|---|---|---|---|---|---|\n",
       "| James     | Stewart   | \n",
       "| Deborah   | Kerr      | \n",
       "| Peter     | OToole    | \n",
       "| Robert    | De Niro   | \n",
       "| F. Murray | Abraham   | \n",
       "| Harrison  | Ford      | \n",
       "\n",
       "\n"
      ],
      "text/plain": [
       "  act_fname act_lname\n",
       "1 James     Stewart  \n",
       "2 Deborah   Kerr     \n",
       "3 Peter     OToole   \n",
       "4 Robert    De Niro  \n",
       "5 F. Murray Abraham  \n",
       "6 Harrison  Ford     "
      ]
     },
     "metadata": {},
     "output_type": "display_data"
    }
   ],
   "source": [
    "str.query = dbSendQuery(mydb, \"SELECT act_fname, act_lname FROM actor\")\n",
    "movie.data = fetch(str.query, n=-1)\n",
    "head(movie.data)"
   ]
  },
  {
   "cell_type": "markdown",
   "metadata": {},
   "source": [
    "![select 3](images/select3.png)"
   ]
  },
  {
   "cell_type": "markdown",
   "metadata": {},
   "source": [
    "### Select basic - Tampilkan nama lengkap para aktor yang mempunyai nama belakang yang berawalan huruf \"A\""
   ]
  },
  {
   "cell_type": "code",
   "execution_count": 13,
   "metadata": {},
   "outputs": [
    {
     "data": {
      "text/html": [
       "<table>\n",
       "<thead><tr><th scope=col>full_name</th></tr></thead>\n",
       "<tbody>\n",
       "\t<tr><td>F. Murray Abraham</td></tr>\n",
       "\t<tr><td>Woody Allen      </td></tr>\n",
       "\t<tr><td>David Aston      </td></tr>\n",
       "\t<tr><td>Ali Astin        </td></tr>\n",
       "</tbody>\n",
       "</table>\n"
      ],
      "text/latex": [
       "\\begin{tabular}{r|l}\n",
       " full\\_name\\\\\n",
       "\\hline\n",
       "\t F. Murray Abraham\\\\\n",
       "\t Woody Allen      \\\\\n",
       "\t David Aston      \\\\\n",
       "\t Ali Astin        \\\\\n",
       "\\end{tabular}\n"
      ],
      "text/markdown": [
       "\n",
       "full_name | \n",
       "|---|---|---|---|\n",
       "| F. Murray Abraham | \n",
       "| Woody Allen       | \n",
       "| David Aston       | \n",
       "| Ali Astin         | \n",
       "\n",
       "\n"
      ],
      "text/plain": [
       "  full_name        \n",
       "1 F. Murray Abraham\n",
       "2 Woody Allen      \n",
       "3 David Aston      \n",
       "4 Ali Astin        "
      ]
     },
     "metadata": {},
     "output_type": "display_data"
    }
   ],
   "source": [
    "str.query = dbSendQuery(mydb, \"SELECT CONCAT(act_fname,' ',act_lname) AS full_name FROM actor WHERE act_lname LIKE 'A%' \")\n",
    "movie.data = fetch(str.query, n=-1)\n",
    "head(movie.data)\n",
    "#count it"
   ]
  },
  {
   "cell_type": "markdown",
   "metadata": {},
   "source": [
    "![select 4](images/select4.png)"
   ]
  },
  {
   "cell_type": "markdown",
   "metadata": {},
   "source": [
    "### Select basic - Tampilkan nama lengkap aktor perempuan yang mempunyai nama belakang yang berawalan huruf \"A\""
   ]
  },
  {
   "cell_type": "code",
   "execution_count": 15,
   "metadata": {},
   "outputs": [
    {
     "data": {
      "text/html": [
       "<table>\n",
       "<thead><tr><th scope=col>CONCAT(act_fname,' ',act_lname)</th></tr></thead>\n",
       "<tbody>\n",
       "\t<tr><td>Ali Astin</td></tr>\n",
       "</tbody>\n",
       "</table>\n"
      ],
      "text/latex": [
       "\\begin{tabular}{r|l}\n",
       " CONCAT(act\\_fname,' ',act\\_lname)\\\\\n",
       "\\hline\n",
       "\t Ali Astin\\\\\n",
       "\\end{tabular}\n"
      ],
      "text/markdown": [
       "\n",
       "CONCAT(act_fname,' ',act_lname) | \n",
       "|---|\n",
       "| Ali Astin | \n",
       "\n",
       "\n"
      ],
      "text/plain": [
       "  CONCAT(act_fname,' ',act_lname)\n",
       "1 Ali Astin                      "
      ]
     },
     "metadata": {},
     "output_type": "display_data"
    }
   ],
   "source": [
    "str.query = dbSendQuery(mydb, \"SELECT CONCAT(act_fname,' ',act_lname) FROM actor WHERE act_lname LIKE 'A%' AND act_gender = 'f' \")\n",
    "movie.data = fetch(str.query, n=-1)\n",
    "head(movie.data)"
   ]
  },
  {
   "cell_type": "markdown",
   "metadata": {},
   "source": [
    "![select 5](images/select5.png)"
   ]
  },
  {
   "cell_type": "markdown",
   "metadata": {},
   "source": [
    "### Select basic - Hitung banyaknya film yang dirilis sebelum tahun 1990"
   ]
  },
  {
   "cell_type": "code",
   "execution_count": 16,
   "metadata": {},
   "outputs": [
    {
     "data": {
      "text/html": [
       "<table>\n",
       "<thead><tr><th scope=col>COUNT(*)</th></tr></thead>\n",
       "<tbody>\n",
       "\t<tr><td>12</td></tr>\n",
       "</tbody>\n",
       "</table>\n"
      ],
      "text/latex": [
       "\\begin{tabular}{r|l}\n",
       " COUNT(*)\\\\\n",
       "\\hline\n",
       "\t 12\\\\\n",
       "\\end{tabular}\n"
      ],
      "text/markdown": [
       "\n",
       "COUNT(*) | \n",
       "|---|\n",
       "| 12 | \n",
       "\n",
       "\n"
      ],
      "text/plain": [
       "  COUNT(*)\n",
       "1 12      "
      ]
     },
     "metadata": {},
     "output_type": "display_data"
    }
   ],
   "source": [
    "str.query = dbSendQuery(mydb, \"SELECT COUNT(*) FROM movie WHERE mov_year < 1990\")\n",
    "movie.data = fetch(str.query, n=-1)\n",
    "head(movie.data)"
   ]
  },
  {
   "cell_type": "markdown",
   "metadata": {},
   "source": [
    "![select 6](images/select6.png)"
   ]
  },
  {
   "cell_type": "markdown",
   "metadata": {},
   "source": [
    "### Select basic - Tampilkan film yang dirilis sebelum film \"Blade Runner\""
   ]
  },
  {
   "cell_type": "code",
   "execution_count": 21,
   "metadata": {},
   "outputs": [
    {
     "data": {
      "text/html": [
       "<table>\n",
       "<thead><tr><th scope=col>mov_id</th><th scope=col>mov_title</th><th scope=col>mov_year</th><th scope=col>mov_time</th><th scope=col>mov_lang</th><th scope=col>mov_dt_rel</th><th scope=col>mov_rel_country</th></tr></thead>\n",
       "<tbody>\n",
       "\t<tr><td>901               </td><td>Vertigo           </td><td>1958              </td><td>128               </td><td>English           </td><td>1958-08-24        </td><td>UK                </td></tr>\n",
       "\t<tr><td>902               </td><td>The Innocents     </td><td>1961              </td><td>100               </td><td>English           </td><td>1962-02-19        </td><td>SW                </td></tr>\n",
       "\t<tr><td>903               </td><td>Lawrence of Arabia</td><td>1962              </td><td>216               </td><td>English           </td><td>1962-12-11        </td><td>UK                </td></tr>\n",
       "\t<tr><td>904               </td><td>The Deer Hunter   </td><td>1978              </td><td>183               </td><td>English           </td><td>1979-03-08        </td><td>UK                </td></tr>\n",
       "\t<tr><td>909               </td><td>Chinatown         </td><td>1974              </td><td>130               </td><td>English           </td><td>1974-08-09        </td><td>UK                </td></tr>\n",
       "\t<tr><td>911               </td><td>Annie Hall        </td><td>1977              </td><td> 93               </td><td>English           </td><td>1977-04-20        </td><td>USA               </td></tr>\n",
       "</tbody>\n",
       "</table>\n"
      ],
      "text/latex": [
       "\\begin{tabular}{r|lllllll}\n",
       " mov\\_id & mov\\_title & mov\\_year & mov\\_time & mov\\_lang & mov\\_dt\\_rel & mov\\_rel\\_country\\\\\n",
       "\\hline\n",
       "\t 901                & Vertigo            & 1958               & 128                & English            & 1958-08-24         & UK                \\\\\n",
       "\t 902                & The Innocents      & 1961               & 100                & English            & 1962-02-19         & SW                \\\\\n",
       "\t 903                & Lawrence of Arabia & 1962               & 216                & English            & 1962-12-11         & UK                \\\\\n",
       "\t 904                & The Deer Hunter    & 1978               & 183                & English            & 1979-03-08         & UK                \\\\\n",
       "\t 909                & Chinatown          & 1974               & 130                & English            & 1974-08-09         & UK                \\\\\n",
       "\t 911                & Annie Hall         & 1977               &  93                & English            & 1977-04-20         & USA               \\\\\n",
       "\\end{tabular}\n"
      ],
      "text/markdown": [
       "\n",
       "mov_id | mov_title | mov_year | mov_time | mov_lang | mov_dt_rel | mov_rel_country | \n",
       "|---|---|---|---|---|---|\n",
       "| 901                | Vertigo            | 1958               | 128                | English            | 1958-08-24         | UK                 | \n",
       "| 902                | The Innocents      | 1961               | 100                | English            | 1962-02-19         | SW                 | \n",
       "| 903                | Lawrence of Arabia | 1962               | 216                | English            | 1962-12-11         | UK                 | \n",
       "| 904                | The Deer Hunter    | 1978               | 183                | English            | 1979-03-08         | UK                 | \n",
       "| 909                | Chinatown          | 1974               | 130                | English            | 1974-08-09         | UK                 | \n",
       "| 911                | Annie Hall         | 1977               |  93                | English            | 1977-04-20         | USA                | \n",
       "\n",
       "\n"
      ],
      "text/plain": [
       "  mov_id mov_title          mov_year mov_time mov_lang mov_dt_rel\n",
       "1 901    Vertigo            1958     128      English  1958-08-24\n",
       "2 902    The Innocents      1961     100      English  1962-02-19\n",
       "3 903    Lawrence of Arabia 1962     216      English  1962-12-11\n",
       "4 904    The Deer Hunter    1978     183      English  1979-03-08\n",
       "5 909    Chinatown          1974     130      English  1974-08-09\n",
       "6 911    Annie Hall         1977      93      English  1977-04-20\n",
       "  mov_rel_country\n",
       "1 UK             \n",
       "2 SW             \n",
       "3 UK             \n",
       "4 UK             \n",
       "5 UK             \n",
       "6 USA            "
      ]
     },
     "metadata": {},
     "output_type": "display_data"
    }
   ],
   "source": [
    "# NOTES\n",
    "# 1. Gunakan  sub-query\n",
    "# 2. Lakukan tanpa langsung menuliskan tahun rilis Blade Runner\n",
    "str.query = dbSendQuery(mydb, \"SELECT * FROM `movie` WHERE mov_year < (SELECT mov_year from movie WHERE mov_title = 'Blade Runner')\")\n",
    "movie.data = fetch(str.query, n=-1)\n",
    "head(movie.data)"
   ]
  },
  {
   "cell_type": "markdown",
   "metadata": {},
   "source": [
    "![select 7](images/select7.png)"
   ]
  },
  {
   "cell_type": "markdown",
   "metadata": {},
   "source": [
    "## JOIN\n",
    "---"
   ]
  },
  {
   "cell_type": "markdown",
   "metadata": {},
   "source": [
    "![joins](images/joins.png)"
   ]
  },
  {
   "cell_type": "markdown",
   "metadata": {},
   "source": [
    "### Step up - Inner join"
   ]
  },
  {
   "cell_type": "code",
   "execution_count": 22,
   "metadata": {},
   "outputs": [
    {
     "data": {
      "text/html": [
       "<table>\n",
       "<thead><tr><th scope=col>dir_id</th><th scope=col>dir_fname</th><th scope=col>dir_lname</th><th scope=col>dir_id</th><th scope=col>mov_id</th></tr></thead>\n",
       "<tbody>\n",
       "\t<tr><td>304            </td><td>Mel            </td><td>Gibson         </td><td>304            </td><td>925            </td></tr>\n",
       "\t<tr><td>306            </td><td>Jack           </td><td>Clayton        </td><td>306            </td><td>903            </td></tr>\n",
       "\t<tr><td>308            </td><td>Michael        </td><td>Cimino         </td><td>308            </td><td>904            </td></tr>\n",
       "\t<tr><td>309            </td><td>Hayao          </td><td>Miyazaki       </td><td>309            </td><td>912            </td></tr>\n",
       "\t<tr><td>309            </td><td>Hayao          </td><td>Miyazaki       </td><td>309            </td><td>927            </td></tr>\n",
       "\t<tr><td>310            </td><td>Milos          </td><td>Forman         </td><td>310            </td><td>905            </td></tr>\n",
       "\t<tr><td>311            </td><td>Akira          </td><td>Kurosawa       </td><td>311            </td><td>926            </td></tr>\n",
       "\t<tr><td>312            </td><td>Ridley         </td><td>Scott          </td><td>312            </td><td>906            </td></tr>\n",
       "\t<tr><td>313            </td><td>James          </td><td>Cameron        </td><td>313            </td><td>915            </td></tr>\n",
       "\t<tr><td>313            </td><td>James          </td><td>Cameron        </td><td>313            </td><td>922            </td></tr>\n",
       "\t<tr><td>313            </td><td>James          </td><td>Cameron        </td><td>313            </td><td>924            </td></tr>\n",
       "\t<tr><td>314            </td><td>Stanley        </td><td>Kubrick        </td><td>314            </td><td>907            </td></tr>\n",
       "\t<tr><td>315            </td><td>Kevin          </td><td>Spacey         </td><td>315            </td><td>923            </td></tr>\n",
       "\t<tr><td>316            </td><td>Bryan          </td><td>Singer         </td><td>316            </td><td>908            </td></tr>\n",
       "\t<tr><td>317            </td><td>Roman          </td><td>Polanski       </td><td>317            </td><td>909            </td></tr>\n",
       "\t<tr><td>318            </td><td>Danny          </td><td>Boyle          </td><td>318            </td><td>918            </td></tr>\n",
       "\t<tr><td>319            </td><td>Paul           </td><td>Thomas Anderson</td><td>319            </td><td>919            </td></tr>\n",
       "\t<tr><td>320            </td><td>Christopher    </td><td>Nolan          </td><td>320            </td><td>919            </td></tr>\n",
       "\t<tr><td>321            </td><td>Woody          </td><td>Allen          </td><td>321            </td><td>911            </td></tr>\n",
       "\t<tr><td>322            </td><td>Frank          </td><td>Darabont       </td><td>322            </td><td>913            </td></tr>\n",
       "\t<tr><td>323            </td><td>Sam            </td><td>Mendes         </td><td>323            </td><td>914            </td></tr>\n",
       "\t<tr><td>324            </td><td>Gus            </td><td>Van Sant       </td><td>324            </td><td>916            </td></tr>\n",
       "\t<tr><td>325            </td><td>John           </td><td>Boorman        </td><td>325            </td><td>917            </td></tr>\n",
       "</tbody>\n",
       "</table>\n"
      ],
      "text/latex": [
       "\\begin{tabular}{r|lllll}\n",
       " dir\\_id & dir\\_fname & dir\\_lname & dir\\_id & mov\\_id\\\\\n",
       "\\hline\n",
       "\t 304             & Mel             & Gibson          & 304             & 925            \\\\\n",
       "\t 306             & Jack            & Clayton         & 306             & 903            \\\\\n",
       "\t 308             & Michael         & Cimino          & 308             & 904            \\\\\n",
       "\t 309             & Hayao           & Miyazaki        & 309             & 912            \\\\\n",
       "\t 309             & Hayao           & Miyazaki        & 309             & 927            \\\\\n",
       "\t 310             & Milos           & Forman          & 310             & 905            \\\\\n",
       "\t 311             & Akira           & Kurosawa        & 311             & 926            \\\\\n",
       "\t 312             & Ridley          & Scott           & 312             & 906            \\\\\n",
       "\t 313             & James           & Cameron         & 313             & 915            \\\\\n",
       "\t 313             & James           & Cameron         & 313             & 922            \\\\\n",
       "\t 313             & James           & Cameron         & 313             & 924            \\\\\n",
       "\t 314             & Stanley         & Kubrick         & 314             & 907            \\\\\n",
       "\t 315             & Kevin           & Spacey          & 315             & 923            \\\\\n",
       "\t 316             & Bryan           & Singer          & 316             & 908            \\\\\n",
       "\t 317             & Roman           & Polanski        & 317             & 909            \\\\\n",
       "\t 318             & Danny           & Boyle           & 318             & 918            \\\\\n",
       "\t 319             & Paul            & Thomas Anderson & 319             & 919            \\\\\n",
       "\t 320             & Christopher     & Nolan           & 320             & 919            \\\\\n",
       "\t 321             & Woody           & Allen           & 321             & 911            \\\\\n",
       "\t 322             & Frank           & Darabont        & 322             & 913            \\\\\n",
       "\t 323             & Sam             & Mendes          & 323             & 914            \\\\\n",
       "\t 324             & Gus             & Van Sant        & 324             & 916            \\\\\n",
       "\t 325             & John            & Boorman         & 325             & 917            \\\\\n",
       "\\end{tabular}\n"
      ],
      "text/markdown": [
       "\n",
       "dir_id | dir_fname | dir_lname | dir_id | mov_id | \n",
       "|---|---|---|---|---|---|---|---|---|---|---|---|---|---|---|---|---|---|---|---|---|---|---|\n",
       "| 304             | Mel             | Gibson          | 304             | 925             | \n",
       "| 306             | Jack            | Clayton         | 306             | 903             | \n",
       "| 308             | Michael         | Cimino          | 308             | 904             | \n",
       "| 309             | Hayao           | Miyazaki        | 309             | 912             | \n",
       "| 309             | Hayao           | Miyazaki        | 309             | 927             | \n",
       "| 310             | Milos           | Forman          | 310             | 905             | \n",
       "| 311             | Akira           | Kurosawa        | 311             | 926             | \n",
       "| 312             | Ridley          | Scott           | 312             | 906             | \n",
       "| 313             | James           | Cameron         | 313             | 915             | \n",
       "| 313             | James           | Cameron         | 313             | 922             | \n",
       "| 313             | James           | Cameron         | 313             | 924             | \n",
       "| 314             | Stanley         | Kubrick         | 314             | 907             | \n",
       "| 315             | Kevin           | Spacey          | 315             | 923             | \n",
       "| 316             | Bryan           | Singer          | 316             | 908             | \n",
       "| 317             | Roman           | Polanski        | 317             | 909             | \n",
       "| 318             | Danny           | Boyle           | 318             | 918             | \n",
       "| 319             | Paul            | Thomas Anderson | 319             | 919             | \n",
       "| 320             | Christopher     | Nolan           | 320             | 919             | \n",
       "| 321             | Woody           | Allen           | 321             | 911             | \n",
       "| 322             | Frank           | Darabont        | 322             | 913             | \n",
       "| 323             | Sam             | Mendes          | 323             | 914             | \n",
       "| 324             | Gus             | Van Sant        | 324             | 916             | \n",
       "| 325             | John            | Boorman         | 325             | 917             | \n",
       "\n",
       "\n"
      ],
      "text/plain": [
       "   dir_id dir_fname   dir_lname       dir_id mov_id\n",
       "1  304    Mel         Gibson          304    925   \n",
       "2  306    Jack        Clayton         306    903   \n",
       "3  308    Michael     Cimino          308    904   \n",
       "4  309    Hayao       Miyazaki        309    912   \n",
       "5  309    Hayao       Miyazaki        309    927   \n",
       "6  310    Milos       Forman          310    905   \n",
       "7  311    Akira       Kurosawa        311    926   \n",
       "8  312    Ridley      Scott           312    906   \n",
       "9  313    James       Cameron         313    915   \n",
       "10 313    James       Cameron         313    922   \n",
       "11 313    James       Cameron         313    924   \n",
       "12 314    Stanley     Kubrick         314    907   \n",
       "13 315    Kevin       Spacey          315    923   \n",
       "14 316    Bryan       Singer          316    908   \n",
       "15 317    Roman       Polanski        317    909   \n",
       "16 318    Danny       Boyle           318    918   \n",
       "17 319    Paul        Thomas Anderson 319    919   \n",
       "18 320    Christopher Nolan           320    919   \n",
       "19 321    Woody       Allen           321    911   \n",
       "20 322    Frank       Darabont        322    913   \n",
       "21 323    Sam         Mendes          323    914   \n",
       "22 324    Gus         Van Sant        324    916   \n",
       "23 325    John        Boorman         325    917   "
      ]
     },
     "metadata": {},
     "output_type": "display_data"
    }
   ],
   "source": [
    "str.query = dbSendQuery(mydb, \"SELECT \n",
    "                                    * \n",
    "                                FROM \n",
    "                                    `director` a \n",
    "                                JOIN movie_direction b ON a.dir_id = b.dir_id \")\n",
    "movie.data = fetch(str.query, n=-1)\n",
    "movie.data"
   ]
  },
  {
   "cell_type": "markdown",
   "metadata": {},
   "source": [
    "### Step up - Left join"
   ]
  },
  {
   "cell_type": "code",
   "execution_count": 23,
   "metadata": {},
   "outputs": [
    {
     "data": {
      "text/html": [
       "<table>\n",
       "<thead><tr><th scope=col>dir_id</th><th scope=col>dir_fname</th><th scope=col>dir_lname</th><th scope=col>dir_id</th><th scope=col>mov_id</th></tr></thead>\n",
       "<tbody>\n",
       "\t<tr><td>303            </td><td>Alfred         </td><td>Hitchcock      </td><td> NA            </td><td> NA            </td></tr>\n",
       "\t<tr><td>304            </td><td>Mel            </td><td>Gibson         </td><td>304            </td><td>925            </td></tr>\n",
       "\t<tr><td>305            </td><td>David          </td><td>Lean           </td><td> NA            </td><td> NA            </td></tr>\n",
       "\t<tr><td>306            </td><td>Jack           </td><td>Clayton        </td><td>306            </td><td>903            </td></tr>\n",
       "\t<tr><td>307            </td><td>Robert         </td><td>Zemeckis       </td><td> NA            </td><td> NA            </td></tr>\n",
       "\t<tr><td>308            </td><td>Michael        </td><td>Cimino         </td><td>308            </td><td>904            </td></tr>\n",
       "\t<tr><td>309            </td><td>Hayao          </td><td>Miyazaki       </td><td>309            </td><td>912            </td></tr>\n",
       "\t<tr><td>309            </td><td>Hayao          </td><td>Miyazaki       </td><td>309            </td><td>927            </td></tr>\n",
       "\t<tr><td>310            </td><td>Milos          </td><td>Forman         </td><td>310            </td><td>905            </td></tr>\n",
       "\t<tr><td>311            </td><td>Akira          </td><td>Kurosawa       </td><td>311            </td><td>926            </td></tr>\n",
       "\t<tr><td>312            </td><td>Ridley         </td><td>Scott          </td><td>312            </td><td>906            </td></tr>\n",
       "\t<tr><td>313            </td><td>James          </td><td>Cameron        </td><td>313            </td><td>915            </td></tr>\n",
       "\t<tr><td>313            </td><td>James          </td><td>Cameron        </td><td>313            </td><td>922            </td></tr>\n",
       "\t<tr><td>313            </td><td>James          </td><td>Cameron        </td><td>313            </td><td>924            </td></tr>\n",
       "\t<tr><td>314            </td><td>Stanley        </td><td>Kubrick        </td><td>314            </td><td>907            </td></tr>\n",
       "\t<tr><td>315            </td><td>Kevin          </td><td>Spacey         </td><td>315            </td><td>923            </td></tr>\n",
       "\t<tr><td>316            </td><td>Bryan          </td><td>Singer         </td><td>316            </td><td>908            </td></tr>\n",
       "\t<tr><td>317            </td><td>Roman          </td><td>Polanski       </td><td>317            </td><td>909            </td></tr>\n",
       "\t<tr><td>318            </td><td>Danny          </td><td>Boyle          </td><td>318            </td><td>918            </td></tr>\n",
       "\t<tr><td>319            </td><td>Paul           </td><td>Thomas Anderson</td><td>319            </td><td>919            </td></tr>\n",
       "\t<tr><td>320            </td><td>Christopher    </td><td>Nolan          </td><td>320            </td><td>919            </td></tr>\n",
       "\t<tr><td>321            </td><td>Woody          </td><td>Allen          </td><td>321            </td><td>911            </td></tr>\n",
       "\t<tr><td>322            </td><td>Frank          </td><td>Darabont       </td><td>322            </td><td>913            </td></tr>\n",
       "\t<tr><td>323            </td><td>Sam            </td><td>Mendes         </td><td>323            </td><td>914            </td></tr>\n",
       "\t<tr><td>324            </td><td>Gus            </td><td>Van Sant       </td><td>324            </td><td>916            </td></tr>\n",
       "\t<tr><td>325            </td><td>John           </td><td>Boorman        </td><td>325            </td><td>917            </td></tr>\n",
       "</tbody>\n",
       "</table>\n"
      ],
      "text/latex": [
       "\\begin{tabular}{r|lllll}\n",
       " dir\\_id & dir\\_fname & dir\\_lname & dir\\_id & mov\\_id\\\\\n",
       "\\hline\n",
       "\t 303             & Alfred          & Hitchcock       &  NA             &  NA            \\\\\n",
       "\t 304             & Mel             & Gibson          & 304             & 925            \\\\\n",
       "\t 305             & David           & Lean            &  NA             &  NA            \\\\\n",
       "\t 306             & Jack            & Clayton         & 306             & 903            \\\\\n",
       "\t 307             & Robert          & Zemeckis        &  NA             &  NA            \\\\\n",
       "\t 308             & Michael         & Cimino          & 308             & 904            \\\\\n",
       "\t 309             & Hayao           & Miyazaki        & 309             & 912            \\\\\n",
       "\t 309             & Hayao           & Miyazaki        & 309             & 927            \\\\\n",
       "\t 310             & Milos           & Forman          & 310             & 905            \\\\\n",
       "\t 311             & Akira           & Kurosawa        & 311             & 926            \\\\\n",
       "\t 312             & Ridley          & Scott           & 312             & 906            \\\\\n",
       "\t 313             & James           & Cameron         & 313             & 915            \\\\\n",
       "\t 313             & James           & Cameron         & 313             & 922            \\\\\n",
       "\t 313             & James           & Cameron         & 313             & 924            \\\\\n",
       "\t 314             & Stanley         & Kubrick         & 314             & 907            \\\\\n",
       "\t 315             & Kevin           & Spacey          & 315             & 923            \\\\\n",
       "\t 316             & Bryan           & Singer          & 316             & 908            \\\\\n",
       "\t 317             & Roman           & Polanski        & 317             & 909            \\\\\n",
       "\t 318             & Danny           & Boyle           & 318             & 918            \\\\\n",
       "\t 319             & Paul            & Thomas Anderson & 319             & 919            \\\\\n",
       "\t 320             & Christopher     & Nolan           & 320             & 919            \\\\\n",
       "\t 321             & Woody           & Allen           & 321             & 911            \\\\\n",
       "\t 322             & Frank           & Darabont        & 322             & 913            \\\\\n",
       "\t 323             & Sam             & Mendes          & 323             & 914            \\\\\n",
       "\t 324             & Gus             & Van Sant        & 324             & 916            \\\\\n",
       "\t 325             & John            & Boorman         & 325             & 917            \\\\\n",
       "\\end{tabular}\n"
      ],
      "text/markdown": [
       "\n",
       "dir_id | dir_fname | dir_lname | dir_id | mov_id | \n",
       "|---|---|---|---|---|---|---|---|---|---|---|---|---|---|---|---|---|---|---|---|---|---|---|---|---|---|\n",
       "| 303             | Alfred          | Hitchcock       |  NA             |  NA             | \n",
       "| 304             | Mel             | Gibson          | 304             | 925             | \n",
       "| 305             | David           | Lean            |  NA             |  NA             | \n",
       "| 306             | Jack            | Clayton         | 306             | 903             | \n",
       "| 307             | Robert          | Zemeckis        |  NA             |  NA             | \n",
       "| 308             | Michael         | Cimino          | 308             | 904             | \n",
       "| 309             | Hayao           | Miyazaki        | 309             | 912             | \n",
       "| 309             | Hayao           | Miyazaki        | 309             | 927             | \n",
       "| 310             | Milos           | Forman          | 310             | 905             | \n",
       "| 311             | Akira           | Kurosawa        | 311             | 926             | \n",
       "| 312             | Ridley          | Scott           | 312             | 906             | \n",
       "| 313             | James           | Cameron         | 313             | 915             | \n",
       "| 313             | James           | Cameron         | 313             | 922             | \n",
       "| 313             | James           | Cameron         | 313             | 924             | \n",
       "| 314             | Stanley         | Kubrick         | 314             | 907             | \n",
       "| 315             | Kevin           | Spacey          | 315             | 923             | \n",
       "| 316             | Bryan           | Singer          | 316             | 908             | \n",
       "| 317             | Roman           | Polanski        | 317             | 909             | \n",
       "| 318             | Danny           | Boyle           | 318             | 918             | \n",
       "| 319             | Paul            | Thomas Anderson | 319             | 919             | \n",
       "| 320             | Christopher     | Nolan           | 320             | 919             | \n",
       "| 321             | Woody           | Allen           | 321             | 911             | \n",
       "| 322             | Frank           | Darabont        | 322             | 913             | \n",
       "| 323             | Sam             | Mendes          | 323             | 914             | \n",
       "| 324             | Gus             | Van Sant        | 324             | 916             | \n",
       "| 325             | John            | Boorman         | 325             | 917             | \n",
       "\n",
       "\n"
      ],
      "text/plain": [
       "   dir_id dir_fname   dir_lname       dir_id mov_id\n",
       "1  303    Alfred      Hitchcock        NA     NA   \n",
       "2  304    Mel         Gibson          304    925   \n",
       "3  305    David       Lean             NA     NA   \n",
       "4  306    Jack        Clayton         306    903   \n",
       "5  307    Robert      Zemeckis         NA     NA   \n",
       "6  308    Michael     Cimino          308    904   \n",
       "7  309    Hayao       Miyazaki        309    912   \n",
       "8  309    Hayao       Miyazaki        309    927   \n",
       "9  310    Milos       Forman          310    905   \n",
       "10 311    Akira       Kurosawa        311    926   \n",
       "11 312    Ridley      Scott           312    906   \n",
       "12 313    James       Cameron         313    915   \n",
       "13 313    James       Cameron         313    922   \n",
       "14 313    James       Cameron         313    924   \n",
       "15 314    Stanley     Kubrick         314    907   \n",
       "16 315    Kevin       Spacey          315    923   \n",
       "17 316    Bryan       Singer          316    908   \n",
       "18 317    Roman       Polanski        317    909   \n",
       "19 318    Danny       Boyle           318    918   \n",
       "20 319    Paul        Thomas Anderson 319    919   \n",
       "21 320    Christopher Nolan           320    919   \n",
       "22 321    Woody       Allen           321    911   \n",
       "23 322    Frank       Darabont        322    913   \n",
       "24 323    Sam         Mendes          323    914   \n",
       "25 324    Gus         Van Sant        324    916   \n",
       "26 325    John        Boorman         325    917   "
      ]
     },
     "metadata": {},
     "output_type": "display_data"
    }
   ],
   "source": [
    "str.query = dbSendQuery(mydb, \"SELECT \n",
    "                                    * \n",
    "                                FROM \n",
    "                                    `director` a \n",
    "                                LEFT JOIN movie_direction b ON a.dir_id = b.dir_id \")\n",
    "movie.data = fetch(str.query, n=-1)\n",
    "movie.data"
   ]
  },
  {
   "cell_type": "markdown",
   "metadata": {},
   "source": [
    "### Step up - Right join"
   ]
  },
  {
   "cell_type": "code",
   "execution_count": 24,
   "metadata": {},
   "outputs": [
    {
     "data": {
      "text/html": [
       "<table>\n",
       "<thead><tr><th scope=col>dir_id</th><th scope=col>mov_id</th><th scope=col>dir_id</th><th scope=col>dir_fname</th><th scope=col>dir_lname</th></tr></thead>\n",
       "<tbody>\n",
       "\t<tr><td> NA            </td><td> NA            </td><td>303            </td><td>Alfred         </td><td>Hitchcock      </td></tr>\n",
       "\t<tr><td>304            </td><td>925            </td><td>304            </td><td>Mel            </td><td>Gibson         </td></tr>\n",
       "\t<tr><td> NA            </td><td> NA            </td><td>305            </td><td>David          </td><td>Lean           </td></tr>\n",
       "\t<tr><td>306            </td><td>903            </td><td>306            </td><td>Jack           </td><td>Clayton        </td></tr>\n",
       "\t<tr><td> NA            </td><td> NA            </td><td>307            </td><td>Robert         </td><td>Zemeckis       </td></tr>\n",
       "\t<tr><td>308            </td><td>904            </td><td>308            </td><td>Michael        </td><td>Cimino         </td></tr>\n",
       "\t<tr><td>309            </td><td>912            </td><td>309            </td><td>Hayao          </td><td>Miyazaki       </td></tr>\n",
       "\t<tr><td>309            </td><td>927            </td><td>309            </td><td>Hayao          </td><td>Miyazaki       </td></tr>\n",
       "\t<tr><td>310            </td><td>905            </td><td>310            </td><td>Milos          </td><td>Forman         </td></tr>\n",
       "\t<tr><td>311            </td><td>926            </td><td>311            </td><td>Akira          </td><td>Kurosawa       </td></tr>\n",
       "\t<tr><td>312            </td><td>906            </td><td>312            </td><td>Ridley         </td><td>Scott          </td></tr>\n",
       "\t<tr><td>313            </td><td>915            </td><td>313            </td><td>James          </td><td>Cameron        </td></tr>\n",
       "\t<tr><td>313            </td><td>922            </td><td>313            </td><td>James          </td><td>Cameron        </td></tr>\n",
       "\t<tr><td>313            </td><td>924            </td><td>313            </td><td>James          </td><td>Cameron        </td></tr>\n",
       "\t<tr><td>314            </td><td>907            </td><td>314            </td><td>Stanley        </td><td>Kubrick        </td></tr>\n",
       "\t<tr><td>315            </td><td>923            </td><td>315            </td><td>Kevin          </td><td>Spacey         </td></tr>\n",
       "\t<tr><td>316            </td><td>908            </td><td>316            </td><td>Bryan          </td><td>Singer         </td></tr>\n",
       "\t<tr><td>317            </td><td>909            </td><td>317            </td><td>Roman          </td><td>Polanski       </td></tr>\n",
       "\t<tr><td>318            </td><td>918            </td><td>318            </td><td>Danny          </td><td>Boyle          </td></tr>\n",
       "\t<tr><td>319            </td><td>919            </td><td>319            </td><td>Paul           </td><td>Thomas Anderson</td></tr>\n",
       "\t<tr><td>320            </td><td>919            </td><td>320            </td><td>Christopher    </td><td>Nolan          </td></tr>\n",
       "\t<tr><td>321            </td><td>911            </td><td>321            </td><td>Woody          </td><td>Allen          </td></tr>\n",
       "\t<tr><td>322            </td><td>913            </td><td>322            </td><td>Frank          </td><td>Darabont       </td></tr>\n",
       "\t<tr><td>323            </td><td>914            </td><td>323            </td><td>Sam            </td><td>Mendes         </td></tr>\n",
       "\t<tr><td>324            </td><td>916            </td><td>324            </td><td>Gus            </td><td>Van Sant       </td></tr>\n",
       "\t<tr><td>325            </td><td>917            </td><td>325            </td><td>John           </td><td>Boorman        </td></tr>\n",
       "</tbody>\n",
       "</table>\n"
      ],
      "text/latex": [
       "\\begin{tabular}{r|lllll}\n",
       " dir\\_id & mov\\_id & dir\\_id & dir\\_fname & dir\\_lname\\\\\n",
       "\\hline\n",
       "\t  NA             &  NA             & 303             & Alfred          & Hitchcock      \\\\\n",
       "\t 304             & 925             & 304             & Mel             & Gibson         \\\\\n",
       "\t  NA             &  NA             & 305             & David           & Lean           \\\\\n",
       "\t 306             & 903             & 306             & Jack            & Clayton        \\\\\n",
       "\t  NA             &  NA             & 307             & Robert          & Zemeckis       \\\\\n",
       "\t 308             & 904             & 308             & Michael         & Cimino         \\\\\n",
       "\t 309             & 912             & 309             & Hayao           & Miyazaki       \\\\\n",
       "\t 309             & 927             & 309             & Hayao           & Miyazaki       \\\\\n",
       "\t 310             & 905             & 310             & Milos           & Forman         \\\\\n",
       "\t 311             & 926             & 311             & Akira           & Kurosawa       \\\\\n",
       "\t 312             & 906             & 312             & Ridley          & Scott          \\\\\n",
       "\t 313             & 915             & 313             & James           & Cameron        \\\\\n",
       "\t 313             & 922             & 313             & James           & Cameron        \\\\\n",
       "\t 313             & 924             & 313             & James           & Cameron        \\\\\n",
       "\t 314             & 907             & 314             & Stanley         & Kubrick        \\\\\n",
       "\t 315             & 923             & 315             & Kevin           & Spacey         \\\\\n",
       "\t 316             & 908             & 316             & Bryan           & Singer         \\\\\n",
       "\t 317             & 909             & 317             & Roman           & Polanski       \\\\\n",
       "\t 318             & 918             & 318             & Danny           & Boyle          \\\\\n",
       "\t 319             & 919             & 319             & Paul            & Thomas Anderson\\\\\n",
       "\t 320             & 919             & 320             & Christopher     & Nolan          \\\\\n",
       "\t 321             & 911             & 321             & Woody           & Allen          \\\\\n",
       "\t 322             & 913             & 322             & Frank           & Darabont       \\\\\n",
       "\t 323             & 914             & 323             & Sam             & Mendes         \\\\\n",
       "\t 324             & 916             & 324             & Gus             & Van Sant       \\\\\n",
       "\t 325             & 917             & 325             & John            & Boorman        \\\\\n",
       "\\end{tabular}\n"
      ],
      "text/markdown": [
       "\n",
       "dir_id | mov_id | dir_id | dir_fname | dir_lname | \n",
       "|---|---|---|---|---|---|---|---|---|---|---|---|---|---|---|---|---|---|---|---|---|---|---|---|---|---|\n",
       "|  NA             |  NA             | 303             | Alfred          | Hitchcock       | \n",
       "| 304             | 925             | 304             | Mel             | Gibson          | \n",
       "|  NA             |  NA             | 305             | David           | Lean            | \n",
       "| 306             | 903             | 306             | Jack            | Clayton         | \n",
       "|  NA             |  NA             | 307             | Robert          | Zemeckis        | \n",
       "| 308             | 904             | 308             | Michael         | Cimino          | \n",
       "| 309             | 912             | 309             | Hayao           | Miyazaki        | \n",
       "| 309             | 927             | 309             | Hayao           | Miyazaki        | \n",
       "| 310             | 905             | 310             | Milos           | Forman          | \n",
       "| 311             | 926             | 311             | Akira           | Kurosawa        | \n",
       "| 312             | 906             | 312             | Ridley          | Scott           | \n",
       "| 313             | 915             | 313             | James           | Cameron         | \n",
       "| 313             | 922             | 313             | James           | Cameron         | \n",
       "| 313             | 924             | 313             | James           | Cameron         | \n",
       "| 314             | 907             | 314             | Stanley         | Kubrick         | \n",
       "| 315             | 923             | 315             | Kevin           | Spacey          | \n",
       "| 316             | 908             | 316             | Bryan           | Singer          | \n",
       "| 317             | 909             | 317             | Roman           | Polanski        | \n",
       "| 318             | 918             | 318             | Danny           | Boyle           | \n",
       "| 319             | 919             | 319             | Paul            | Thomas Anderson | \n",
       "| 320             | 919             | 320             | Christopher     | Nolan           | \n",
       "| 321             | 911             | 321             | Woody           | Allen           | \n",
       "| 322             | 913             | 322             | Frank           | Darabont        | \n",
       "| 323             | 914             | 323             | Sam             | Mendes          | \n",
       "| 324             | 916             | 324             | Gus             | Van Sant        | \n",
       "| 325             | 917             | 325             | John            | Boorman         | \n",
       "\n",
       "\n"
      ],
      "text/plain": [
       "   dir_id mov_id dir_id dir_fname   dir_lname      \n",
       "1   NA     NA    303    Alfred      Hitchcock      \n",
       "2  304    925    304    Mel         Gibson         \n",
       "3   NA     NA    305    David       Lean           \n",
       "4  306    903    306    Jack        Clayton        \n",
       "5   NA     NA    307    Robert      Zemeckis       \n",
       "6  308    904    308    Michael     Cimino         \n",
       "7  309    912    309    Hayao       Miyazaki       \n",
       "8  309    927    309    Hayao       Miyazaki       \n",
       "9  310    905    310    Milos       Forman         \n",
       "10 311    926    311    Akira       Kurosawa       \n",
       "11 312    906    312    Ridley      Scott          \n",
       "12 313    915    313    James       Cameron        \n",
       "13 313    922    313    James       Cameron        \n",
       "14 313    924    313    James       Cameron        \n",
       "15 314    907    314    Stanley     Kubrick        \n",
       "16 315    923    315    Kevin       Spacey         \n",
       "17 316    908    316    Bryan       Singer         \n",
       "18 317    909    317    Roman       Polanski       \n",
       "19 318    918    318    Danny       Boyle          \n",
       "20 319    919    319    Paul        Thomas Anderson\n",
       "21 320    919    320    Christopher Nolan          \n",
       "22 321    911    321    Woody       Allen          \n",
       "23 322    913    322    Frank       Darabont       \n",
       "24 323    914    323    Sam         Mendes         \n",
       "25 324    916    324    Gus         Van Sant       \n",
       "26 325    917    325    John        Boorman        "
      ]
     },
     "metadata": {},
     "output_type": "display_data"
    }
   ],
   "source": [
    "str.query = dbSendQuery(mydb, \"SELECT \n",
    "                                    * \n",
    "                                FROM \n",
    "                                    movie_direction b\n",
    "                                RIGHT JOIN `director` a  ON b.dir_id = a.dir_id \")\n",
    "movie.data = fetch(str.query, n=-1)\n",
    "movie.data"
   ]
  },
  {
   "cell_type": "markdown",
   "metadata": {},
   "source": [
    "### Step up - Tampilkan nama sutradara beserta dengan film yang disutradarainya"
   ]
  },
  {
   "cell_type": "code",
   "execution_count": 26,
   "metadata": {},
   "outputs": [
    {
     "data": {
      "text/html": [
       "<table>\n",
       "<thead><tr><th scope=col>Full Name</th><th scope=col>Movie Title</th></tr></thead>\n",
       "<tbody>\n",
       "\t<tr><td>Mel Gibson              </td><td>Braveheart              </td></tr>\n",
       "\t<tr><td>Jack Clayton            </td><td>Lawrence of Arabia      </td></tr>\n",
       "\t<tr><td>Michael Cimino          </td><td>The Deer Hunter         </td></tr>\n",
       "\t<tr><td>Hayao Miyazaki          </td><td>Princess Mononoke       </td></tr>\n",
       "\t<tr><td>Hayao Miyazaki          </td><td>Spirited Away           </td></tr>\n",
       "\t<tr><td>Milos Forman            </td><td>Amadeus                 </td></tr>\n",
       "\t<tr><td>Akira Kurosawa          </td><td>Seven Samurai           </td></tr>\n",
       "\t<tr><td>Ridley Scott            </td><td>Blade Runner            </td></tr>\n",
       "\t<tr><td>James Cameron           </td><td>Titanic                 </td></tr>\n",
       "\t<tr><td>James Cameron           </td><td>Aliens                  </td></tr>\n",
       "\t<tr><td>James Cameron           </td><td>Avatar                  </td></tr>\n",
       "\t<tr><td>Stanley Kubrick         </td><td>Eyes Wide Shut          </td></tr>\n",
       "\t<tr><td>Kevin Spacey            </td><td>Beyond the Sea          </td></tr>\n",
       "\t<tr><td>Bryan Singer            </td><td>The Usual Suspects      </td></tr>\n",
       "\t<tr><td>Roman Polanski          </td><td>Chinatown               </td></tr>\n",
       "\t<tr><td>Danny Boyle             </td><td>Trainspotting           </td></tr>\n",
       "\t<tr><td>Paul Thomas Anderson    </td><td>The Prestige            </td></tr>\n",
       "\t<tr><td>Christopher Nolan       </td><td>The Prestige            </td></tr>\n",
       "\t<tr><td>Woody Allen             </td><td>Annie Hall              </td></tr>\n",
       "\t<tr><td>Frank Darabont          </td><td>The Shawshank Redemption</td></tr>\n",
       "\t<tr><td>Sam Mendes              </td><td>American Beauty         </td></tr>\n",
       "\t<tr><td>Gus Van Sant            </td><td>Good Will Hunting       </td></tr>\n",
       "\t<tr><td>John Boorman            </td><td>Deliverance             </td></tr>\n",
       "</tbody>\n",
       "</table>\n"
      ],
      "text/latex": [
       "\\begin{tabular}{r|ll}\n",
       " Full Name & Movie Title\\\\\n",
       "\\hline\n",
       "\t Mel Gibson               & Braveheart              \\\\\n",
       "\t Jack Clayton             & Lawrence of Arabia      \\\\\n",
       "\t Michael Cimino           & The Deer Hunter         \\\\\n",
       "\t Hayao Miyazaki           & Princess Mononoke       \\\\\n",
       "\t Hayao Miyazaki           & Spirited Away           \\\\\n",
       "\t Milos Forman             & Amadeus                 \\\\\n",
       "\t Akira Kurosawa           & Seven Samurai           \\\\\n",
       "\t Ridley Scott             & Blade Runner            \\\\\n",
       "\t James Cameron            & Titanic                 \\\\\n",
       "\t James Cameron            & Aliens                  \\\\\n",
       "\t James Cameron            & Avatar                  \\\\\n",
       "\t Stanley Kubrick          & Eyes Wide Shut          \\\\\n",
       "\t Kevin Spacey             & Beyond the Sea          \\\\\n",
       "\t Bryan Singer             & The Usual Suspects      \\\\\n",
       "\t Roman Polanski           & Chinatown               \\\\\n",
       "\t Danny Boyle              & Trainspotting           \\\\\n",
       "\t Paul Thomas Anderson     & The Prestige            \\\\\n",
       "\t Christopher Nolan        & The Prestige            \\\\\n",
       "\t Woody Allen              & Annie Hall              \\\\\n",
       "\t Frank Darabont           & The Shawshank Redemption\\\\\n",
       "\t Sam Mendes               & American Beauty         \\\\\n",
       "\t Gus Van Sant             & Good Will Hunting       \\\\\n",
       "\t John Boorman             & Deliverance             \\\\\n",
       "\\end{tabular}\n"
      ],
      "text/markdown": [
       "\n",
       "Full Name | Movie Title | \n",
       "|---|---|---|---|---|---|---|---|---|---|---|---|---|---|---|---|---|---|---|---|---|---|---|\n",
       "| Mel Gibson               | Braveheart               | \n",
       "| Jack Clayton             | Lawrence of Arabia       | \n",
       "| Michael Cimino           | The Deer Hunter          | \n",
       "| Hayao Miyazaki           | Princess Mononoke        | \n",
       "| Hayao Miyazaki           | Spirited Away            | \n",
       "| Milos Forman             | Amadeus                  | \n",
       "| Akira Kurosawa           | Seven Samurai            | \n",
       "| Ridley Scott             | Blade Runner             | \n",
       "| James Cameron            | Titanic                  | \n",
       "| James Cameron            | Aliens                   | \n",
       "| James Cameron            | Avatar                   | \n",
       "| Stanley Kubrick          | Eyes Wide Shut           | \n",
       "| Kevin Spacey             | Beyond the Sea           | \n",
       "| Bryan Singer             | The Usual Suspects       | \n",
       "| Roman Polanski           | Chinatown                | \n",
       "| Danny Boyle              | Trainspotting            | \n",
       "| Paul Thomas Anderson     | The Prestige             | \n",
       "| Christopher Nolan        | The Prestige             | \n",
       "| Woody Allen              | Annie Hall               | \n",
       "| Frank Darabont           | The Shawshank Redemption | \n",
       "| Sam Mendes               | American Beauty          | \n",
       "| Gus Van Sant             | Good Will Hunting        | \n",
       "| John Boorman             | Deliverance              | \n",
       "\n",
       "\n"
      ],
      "text/plain": [
       "   Full Name            Movie Title             \n",
       "1  Mel Gibson           Braveheart              \n",
       "2  Jack Clayton         Lawrence of Arabia      \n",
       "3  Michael Cimino       The Deer Hunter         \n",
       "4  Hayao Miyazaki       Princess Mononoke       \n",
       "5  Hayao Miyazaki       Spirited Away           \n",
       "6  Milos Forman         Amadeus                 \n",
       "7  Akira Kurosawa       Seven Samurai           \n",
       "8  Ridley Scott         Blade Runner            \n",
       "9  James Cameron        Titanic                 \n",
       "10 James Cameron        Aliens                  \n",
       "11 James Cameron        Avatar                  \n",
       "12 Stanley Kubrick      Eyes Wide Shut          \n",
       "13 Kevin Spacey         Beyond the Sea          \n",
       "14 Bryan Singer         The Usual Suspects      \n",
       "15 Roman Polanski       Chinatown               \n",
       "16 Danny Boyle          Trainspotting           \n",
       "17 Paul Thomas Anderson The Prestige            \n",
       "18 Christopher Nolan    The Prestige            \n",
       "19 Woody Allen          Annie Hall              \n",
       "20 Frank Darabont       The Shawshank Redemption\n",
       "21 Sam Mendes           American Beauty         \n",
       "22 Gus Van Sant         Good Will Hunting       \n",
       "23 John Boorman         Deliverance             "
      ]
     },
     "metadata": {},
     "output_type": "display_data"
    }
   ],
   "source": [
    "str.query = dbSendQuery(mydb, \"SELECT \n",
    "                                    CONCAT(a.dir_fname,' ',a.dir_lname) AS 'Full Name', c.mov_title AS 'Movie Title' \n",
    "                                FROM \n",
    "                                    `director` a \n",
    "                                JOIN movie_direction b ON a.dir_id = b.dir_id \n",
    "                                JOIN movie c ON b.mov_id = c.mov_id\")\n",
    "movie.data = fetch(str.query, n=-1)\n",
    "movie.data"
   ]
  },
  {
   "cell_type": "markdown",
   "metadata": {},
   "source": [
    "![stepup 1](images/stepup1.png)"
   ]
  },
  {
   "cell_type": "markdown",
   "metadata": {},
   "source": [
    "### Step up - Tampilkan semua judul film beserta ratingnya"
   ]
  },
  {
   "cell_type": "code",
   "execution_count": 33,
   "metadata": {},
   "outputs": [
    {
     "data": {
      "text/html": [
       "<table>\n",
       "<thead><tr><th scope=col>mov_title</th><th scope=col>rev_stars</th><th scope=col>Comment</th></tr></thead>\n",
       "<tbody>\n",
       "\t<tr><td>Vertigo           </td><td> 8                </td><td>Good Movie        </td></tr>\n",
       "\t<tr><td>The Innocents     </td><td> 8                </td><td>Good Movie        </td></tr>\n",
       "\t<tr><td>Lawrence of Arabia</td><td> 8                </td><td>Good Movie        </td></tr>\n",
       "\t<tr><td>The Deer Hunter   </td><td>NA                </td><td>NA                </td></tr>\n",
       "\t<tr><td>Amadeus           </td><td>NA                </td><td>NA                </td></tr>\n",
       "\t<tr><td>Blade Runner      </td><td> 8                </td><td>Good Movie        </td></tr>\n",
       "</tbody>\n",
       "</table>\n"
      ],
      "text/latex": [
       "\\begin{tabular}{r|lll}\n",
       " mov\\_title & rev\\_stars & Comment\\\\\n",
       "\\hline\n",
       "\t Vertigo            &  8                 & Good Movie        \\\\\n",
       "\t The Innocents      &  8                 & Good Movie        \\\\\n",
       "\t Lawrence of Arabia &  8                 & Good Movie        \\\\\n",
       "\t The Deer Hunter    & NA                 & NA                \\\\\n",
       "\t Amadeus            & NA                 & NA                \\\\\n",
       "\t Blade Runner       &  8                 & Good Movie        \\\\\n",
       "\\end{tabular}\n"
      ],
      "text/markdown": [
       "\n",
       "mov_title | rev_stars | Comment | \n",
       "|---|---|---|---|---|---|\n",
       "| Vertigo            |  8                 | Good Movie         | \n",
       "| The Innocents      |  8                 | Good Movie         | \n",
       "| Lawrence of Arabia |  8                 | Good Movie         | \n",
       "| The Deer Hunter    | NA                 | NA                 | \n",
       "| Amadeus            | NA                 | NA                 | \n",
       "| Blade Runner       |  8                 | Good Movie         | \n",
       "\n",
       "\n"
      ],
      "text/plain": [
       "  mov_title          rev_stars Comment   \n",
       "1 Vertigo             8        Good Movie\n",
       "2 The Innocents       8        Good Movie\n",
       "3 Lawrence of Arabia  8        Good Movie\n",
       "4 The Deer Hunter    NA        NA        \n",
       "5 Amadeus            NA        NA        \n",
       "6 Blade Runner        8        Good Movie"
      ]
     },
     "metadata": {},
     "output_type": "display_data"
    }
   ],
   "source": [
    "str.query = dbSendQuery(mydb, \"SELECT \n",
    "                                    a.mov_title, b.rev_stars,\n",
    "                                    CASE \n",
    "                                        WHEN b.rev_stars < 5 THEN 'Under rated'\n",
    "                                        WHEN b.rev_stars >= 5 AND b.rev_stars <= 8 THEN 'Good Movie'\n",
    "                                        WHEN b.rev_stars > 8 THEN 'A Blockbuster!' \n",
    "                                    END AS 'Comment'\n",
    "                                FROM \n",
    "                                    movie a\n",
    "                                LEFT JOIN rating b ON a.mov_id = b.mov_id\")\n",
    "movie.data = fetch(str.query, n=-1)\n",
    "head(movie.data)"
   ]
  },
  {
   "cell_type": "markdown",
   "metadata": {},
   "source": [
    "![stepup 2](images/stepup2.png)"
   ]
  },
  {
   "cell_type": "markdown",
   "metadata": {},
   "source": [
    "### Step up - Susun rating dari yang tertinggi ke terendah dari hasil query sebelumnya"
   ]
  },
  {
   "cell_type": "code",
   "execution_count": 35,
   "metadata": {},
   "outputs": [
    {
     "data": {
      "text/html": [
       "<table>\n",
       "<thead><tr><th scope=col>mov_title</th><th scope=col>rev_stars</th><th scope=col>Comment</th></tr></thead>\n",
       "<tbody>\n",
       "\t<tr><td>The Usual Suspects      </td><td> 9                      </td><td>A Blockbuster!          </td></tr>\n",
       "\t<tr><td>Lawrence of Arabia      </td><td> 8                      </td><td>Good movie              </td></tr>\n",
       "\t<tr><td>Blade Runner            </td><td> 8                      </td><td>Good movie              </td></tr>\n",
       "\t<tr><td>Aliens                  </td><td> 8                      </td><td>Good movie              </td></tr>\n",
       "\t<tr><td>Braveheart              </td><td> 8                      </td><td>Good movie              </td></tr>\n",
       "\t<tr><td>Princess Mononoke       </td><td> 8                      </td><td>Good movie              </td></tr>\n",
       "\t<tr><td>Titanic                 </td><td> 8                      </td><td>Good movie              </td></tr>\n",
       "\t<tr><td>The Innocents           </td><td> 8                      </td><td>Good movie              </td></tr>\n",
       "\t<tr><td>Slumdog Millionaire     </td><td> 8                      </td><td>Good movie              </td></tr>\n",
       "\t<tr><td>Annie Hall              </td><td> 8                      </td><td>Good movie              </td></tr>\n",
       "\t<tr><td>Vertigo                 </td><td> 8                      </td><td>Good movie              </td></tr>\n",
       "\t<tr><td>Donnie Darko            </td><td> 8                      </td><td>Good movie              </td></tr>\n",
       "\t<tr><td>Avatar                  </td><td> 7                      </td><td>Good movie              </td></tr>\n",
       "\t<tr><td>American Beauty         </td><td> 7                      </td><td>Good movie              </td></tr>\n",
       "\t<tr><td>Beyond the Sea          </td><td> 7                      </td><td>Good movie              </td></tr>\n",
       "\t<tr><td>Good Will Hunting       </td><td> 4                      </td><td>Under rated             </td></tr>\n",
       "\t<tr><td>Boogie Nights           </td><td> 3                      </td><td>Under rated             </td></tr>\n",
       "\t<tr><td>Chinatown               </td><td> 0                      </td><td>Under rated             </td></tr>\n",
       "\t<tr><td>Trainspotting           </td><td> 0                      </td><td>Under rated             </td></tr>\n",
       "\t<tr><td>Seven Samurai           </td><td>NA                      </td><td>NA                      </td></tr>\n",
       "\t<tr><td>The Shawshank Redemption</td><td>NA                      </td><td>NA                      </td></tr>\n",
       "\t<tr><td>The Prestige            </td><td>NA                      </td><td>NA                      </td></tr>\n",
       "\t<tr><td>Back to the Future      </td><td>NA                      </td><td>NA                      </td></tr>\n",
       "\t<tr><td>Amadeus                 </td><td>NA                      </td><td>NA                      </td></tr>\n",
       "\t<tr><td>Spirited Away           </td><td>NA                      </td><td>NA                      </td></tr>\n",
       "\t<tr><td>Deliverance             </td><td>NA                      </td><td>NA                      </td></tr>\n",
       "\t<tr><td>The Deer Hunter         </td><td>NA                      </td><td>NA                      </td></tr>\n",
       "\t<tr><td>Eyes Wide Shut          </td><td>NA                      </td><td>NA                      </td></tr>\n",
       "</tbody>\n",
       "</table>\n"
      ],
      "text/latex": [
       "\\begin{tabular}{r|lll}\n",
       " mov\\_title & rev\\_stars & Comment\\\\\n",
       "\\hline\n",
       "\t The Usual Suspects       &  9                       & A Blockbuster!          \\\\\n",
       "\t Lawrence of Arabia       &  8                       & Good movie              \\\\\n",
       "\t Blade Runner             &  8                       & Good movie              \\\\\n",
       "\t Aliens                   &  8                       & Good movie              \\\\\n",
       "\t Braveheart               &  8                       & Good movie              \\\\\n",
       "\t Princess Mononoke        &  8                       & Good movie              \\\\\n",
       "\t Titanic                  &  8                       & Good movie              \\\\\n",
       "\t The Innocents            &  8                       & Good movie              \\\\\n",
       "\t Slumdog Millionaire      &  8                       & Good movie              \\\\\n",
       "\t Annie Hall               &  8                       & Good movie              \\\\\n",
       "\t Vertigo                  &  8                       & Good movie              \\\\\n",
       "\t Donnie Darko             &  8                       & Good movie              \\\\\n",
       "\t Avatar                   &  7                       & Good movie              \\\\\n",
       "\t American Beauty          &  7                       & Good movie              \\\\\n",
       "\t Beyond the Sea           &  7                       & Good movie              \\\\\n",
       "\t Good Will Hunting        &  4                       & Under rated             \\\\\n",
       "\t Boogie Nights            &  3                       & Under rated             \\\\\n",
       "\t Chinatown                &  0                       & Under rated             \\\\\n",
       "\t Trainspotting            &  0                       & Under rated             \\\\\n",
       "\t Seven Samurai            & NA                       & NA                      \\\\\n",
       "\t The Shawshank Redemption & NA                       & NA                      \\\\\n",
       "\t The Prestige             & NA                       & NA                      \\\\\n",
       "\t Back to the Future       & NA                       & NA                      \\\\\n",
       "\t Amadeus                  & NA                       & NA                      \\\\\n",
       "\t Spirited Away            & NA                       & NA                      \\\\\n",
       "\t Deliverance              & NA                       & NA                      \\\\\n",
       "\t The Deer Hunter          & NA                       & NA                      \\\\\n",
       "\t Eyes Wide Shut           & NA                       & NA                      \\\\\n",
       "\\end{tabular}\n"
      ],
      "text/markdown": [
       "\n",
       "mov_title | rev_stars | Comment | \n",
       "|---|---|---|---|---|---|---|---|---|---|---|---|---|---|---|---|---|---|---|---|---|---|---|---|---|---|---|---|\n",
       "| The Usual Suspects       |  9                       | A Blockbuster!           | \n",
       "| Lawrence of Arabia       |  8                       | Good movie               | \n",
       "| Blade Runner             |  8                       | Good movie               | \n",
       "| Aliens                   |  8                       | Good movie               | \n",
       "| Braveheart               |  8                       | Good movie               | \n",
       "| Princess Mononoke        |  8                       | Good movie               | \n",
       "| Titanic                  |  8                       | Good movie               | \n",
       "| The Innocents            |  8                       | Good movie               | \n",
       "| Slumdog Millionaire      |  8                       | Good movie               | \n",
       "| Annie Hall               |  8                       | Good movie               | \n",
       "| Vertigo                  |  8                       | Good movie               | \n",
       "| Donnie Darko             |  8                       | Good movie               | \n",
       "| Avatar                   |  7                       | Good movie               | \n",
       "| American Beauty          |  7                       | Good movie               | \n",
       "| Beyond the Sea           |  7                       | Good movie               | \n",
       "| Good Will Hunting        |  4                       | Under rated              | \n",
       "| Boogie Nights            |  3                       | Under rated              | \n",
       "| Chinatown                |  0                       | Under rated              | \n",
       "| Trainspotting            |  0                       | Under rated              | \n",
       "| Seven Samurai            | NA                       | NA                       | \n",
       "| The Shawshank Redemption | NA                       | NA                       | \n",
       "| The Prestige             | NA                       | NA                       | \n",
       "| Back to the Future       | NA                       | NA                       | \n",
       "| Amadeus                  | NA                       | NA                       | \n",
       "| Spirited Away            | NA                       | NA                       | \n",
       "| Deliverance              | NA                       | NA                       | \n",
       "| The Deer Hunter          | NA                       | NA                       | \n",
       "| Eyes Wide Shut           | NA                       | NA                       | \n",
       "\n",
       "\n"
      ],
      "text/plain": [
       "   mov_title                rev_stars Comment       \n",
       "1  The Usual Suspects        9        A Blockbuster!\n",
       "2  Lawrence of Arabia        8        Good movie    \n",
       "3  Blade Runner              8        Good movie    \n",
       "4  Aliens                    8        Good movie    \n",
       "5  Braveheart                8        Good movie    \n",
       "6  Princess Mononoke         8        Good movie    \n",
       "7  Titanic                   8        Good movie    \n",
       "8  The Innocents             8        Good movie    \n",
       "9  Slumdog Millionaire       8        Good movie    \n",
       "10 Annie Hall                8        Good movie    \n",
       "11 Vertigo                   8        Good movie    \n",
       "12 Donnie Darko              8        Good movie    \n",
       "13 Avatar                    7        Good movie    \n",
       "14 American Beauty           7        Good movie    \n",
       "15 Beyond the Sea            7        Good movie    \n",
       "16 Good Will Hunting         4        Under rated   \n",
       "17 Boogie Nights             3        Under rated   \n",
       "18 Chinatown                 0        Under rated   \n",
       "19 Trainspotting             0        Under rated   \n",
       "20 Seven Samurai            NA        NA            \n",
       "21 The Shawshank Redemption NA        NA            \n",
       "22 The Prestige             NA        NA            \n",
       "23 Back to the Future       NA        NA            \n",
       "24 Amadeus                  NA        NA            \n",
       "25 Spirited Away            NA        NA            \n",
       "26 Deliverance              NA        NA            \n",
       "27 The Deer Hunter          NA        NA            \n",
       "28 Eyes Wide Shut           NA        NA            "
      ]
     },
     "metadata": {},
     "output_type": "display_data"
    }
   ],
   "source": [
    "str.query = dbSendQuery(mydb, \"SELECT \n",
    "                                    mov_title, rev_stars,\n",
    "                                    CASE \n",
    "                                        WHEN b.rev_stars < 5 THEN 'Under rated'\n",
    "                                        WHEN b.rev_stars BETWEEN 5 AND 8 THEN 'Good movie'\n",
    "                                        WHEN b.rev_stars > 8 THEN 'A Blockbuster!' \n",
    "                                    END AS 'Comment'\n",
    "                                FROM \n",
    "                                    movie a \n",
    "                                LEFT JOIN rating b ON a.mov_id = b.mov_id\n",
    "                                ORDER BY rev_stars DESC\")\n",
    "movie.data = fetch(str.query, n=-1)\n",
    "movie.data"
   ]
  },
  {
   "cell_type": "markdown",
   "metadata": {},
   "source": [
    "![stepup3](images/stepup3.png)"
   ]
  },
  {
   "cell_type": "markdown",
   "metadata": {},
   "source": [
    "### Step up - Hitung jumlah komentar"
   ]
  },
  {
   "cell_type": "code",
   "execution_count": 36,
   "metadata": {},
   "outputs": [
    {
     "data": {
      "text/html": [
       "<table>\n",
       "<thead><tr><th scope=col>Comment</th><th scope=col>Counter</th></tr></thead>\n",
       "<tbody>\n",
       "\t<tr><td>Good movie    </td><td>14            </td></tr>\n",
       "\t<tr><td>NA            </td><td> 9            </td></tr>\n",
       "\t<tr><td>Under rated   </td><td> 4            </td></tr>\n",
       "\t<tr><td>A Blockbuster!</td><td> 1            </td></tr>\n",
       "</tbody>\n",
       "</table>\n"
      ],
      "text/latex": [
       "\\begin{tabular}{r|ll}\n",
       " Comment & Counter\\\\\n",
       "\\hline\n",
       "\t Good movie     & 14            \\\\\n",
       "\t NA             &  9            \\\\\n",
       "\t Under rated    &  4            \\\\\n",
       "\t A Blockbuster! &  1            \\\\\n",
       "\\end{tabular}\n"
      ],
      "text/markdown": [
       "\n",
       "Comment | Counter | \n",
       "|---|---|---|---|\n",
       "| Good movie     | 14             | \n",
       "| NA             |  9             | \n",
       "| Under rated    |  4             | \n",
       "| A Blockbuster! |  1             | \n",
       "\n",
       "\n"
      ],
      "text/plain": [
       "  Comment        Counter\n",
       "1 Good movie     14     \n",
       "2 NA              9     \n",
       "3 Under rated     4     \n",
       "4 A Blockbuster!  1     "
      ]
     },
     "metadata": {},
     "output_type": "display_data"
    }
   ],
   "source": [
    "str.query = dbSendQuery(mydb, \"SELECT \n",
    "                                    CASE \n",
    "                                        WHEN b.rev_stars < 5 THEN 'Under rated'\n",
    "                                        WHEN b.rev_stars BETWEEN 5 AND 8 THEN 'Good movie'\n",
    "                                        WHEN b.rev_stars > 8 THEN 'A Blockbuster!' \n",
    "                                    END AS 'Comment',\n",
    "                                    COUNT(*) AS Counter\n",
    "                                FROM \n",
    "                                    movie a\n",
    "                                LEFT JOIN rating b ON a.mov_id = b.mov_id\n",
    "                                GROUP BY Comment\n",
    "                                ORDER BY Counter DESC\")\n",
    "movie.data = fetch(str.query, n=-1)\n",
    "movie.data"
   ]
  },
  {
   "cell_type": "markdown",
   "metadata": {},
   "source": [
    "![stepup 4](images/stepup4.png)"
   ]
  },
  {
   "cell_type": "markdown",
   "metadata": {},
   "source": [
    "### Step up - Join dengan menggunakan <i>WHERE</i>"
   ]
  },
  {
   "cell_type": "code",
   "execution_count": 37,
   "metadata": {},
   "outputs": [
    {
     "data": {
      "text/html": [
       "<table>\n",
       "<thead><tr><th scope=col>Comment</th><th scope=col>Counter</th></tr></thead>\n",
       "<tbody>\n",
       "\t<tr><td>Good Movie    </td><td>14            </td></tr>\n",
       "\t<tr><td>Under rated   </td><td> 4            </td></tr>\n",
       "\t<tr><td>A Blockbuster!</td><td> 1            </td></tr>\n",
       "</tbody>\n",
       "</table>\n"
      ],
      "text/latex": [
       "\\begin{tabular}{r|ll}\n",
       " Comment & Counter\\\\\n",
       "\\hline\n",
       "\t Good Movie     & 14            \\\\\n",
       "\t Under rated    &  4            \\\\\n",
       "\t A Blockbuster! &  1            \\\\\n",
       "\\end{tabular}\n"
      ],
      "text/markdown": [
       "\n",
       "Comment | Counter | \n",
       "|---|---|---|\n",
       "| Good Movie     | 14             | \n",
       "| Under rated    |  4             | \n",
       "| A Blockbuster! |  1             | \n",
       "\n",
       "\n"
      ],
      "text/plain": [
       "  Comment        Counter\n",
       "1 Good Movie     14     \n",
       "2 Under rated     4     \n",
       "3 A Blockbuster!  1     "
      ]
     },
     "metadata": {},
     "output_type": "display_data"
    }
   ],
   "source": [
    "str.query = dbSendQuery(mydb, \"SELECT \n",
    "                                    CASE \n",
    "                                        WHEN b.rev_stars < 5 THEN 'Under rated'\n",
    "                                        WHEN b.rev_stars >= 5 AND b.rev_stars <= 8 THEN 'Good Movie'\n",
    "                                        WHEN b.rev_stars > 8 THEN 'A Blockbuster!' \n",
    "                                    END AS 'Comment',\n",
    "                                    COUNT(*) AS Counter\n",
    "                                FROM \n",
    "                                    movie a, rating b\n",
    "                                WHERE\n",
    "                                    a.mov_id = b.mov_id\n",
    "                                GROUP BY Comment\n",
    "                                ORDER BY Counter DESC\")\n",
    "movie.data = fetch(str.query, n=-1)\n",
    "movie.data"
   ]
  },
  {
   "cell_type": "markdown",
   "metadata": {},
   "source": [
    "### Step up - UNION"
   ]
  },
  {
   "cell_type": "code",
   "execution_count": 38,
   "metadata": {},
   "outputs": [
    {
     "data": {
      "text/html": [
       "<table>\n",
       "<thead><tr><th scope=col>Full Name</th><th scope=col>Role</th></tr></thead>\n",
       "<tbody>\n",
       "\t<tr><td>James Stewart       </td><td>Actor               </td></tr>\n",
       "\t<tr><td>Deborah Kerr        </td><td>Actor               </td></tr>\n",
       "\t<tr><td>Peter OToole        </td><td>Actor               </td></tr>\n",
       "\t<tr><td>Robert De Niro      </td><td>Actor               </td></tr>\n",
       "\t<tr><td>F. Murray Abraham   </td><td>Actor               </td></tr>\n",
       "\t<tr><td>Harrison Ford       </td><td>Actor               </td></tr>\n",
       "\t<tr><td>Nicole Kidman       </td><td>Actor               </td></tr>\n",
       "\t<tr><td>Stephen Baldwin     </td><td>Actor               </td></tr>\n",
       "\t<tr><td>Jack Nicholson      </td><td>Actor               </td></tr>\n",
       "\t<tr><td>Mark Wahlberg       </td><td>Actor               </td></tr>\n",
       "\t<tr><td>Woody Allen         </td><td>Actor               </td></tr>\n",
       "\t<tr><td>Claire Danes        </td><td>Actor               </td></tr>\n",
       "\t<tr><td>Tim Robbins         </td><td>Actor               </td></tr>\n",
       "\t<tr><td>Kevin Spacey        </td><td>Actor               </td></tr>\n",
       "\t<tr><td>Kate Winslet        </td><td>Actor               </td></tr>\n",
       "\t<tr><td>Robin Williams      </td><td>Actor               </td></tr>\n",
       "\t<tr><td>Jon Voight          </td><td>Actor               </td></tr>\n",
       "\t<tr><td>Ewan McGregor       </td><td>Actor               </td></tr>\n",
       "\t<tr><td>Christian Bale      </td><td>Actor               </td></tr>\n",
       "\t<tr><td>Maggie Gyllenhaal   </td><td>Actor               </td></tr>\n",
       "\t<tr><td>Dev Patel           </td><td>Actor               </td></tr>\n",
       "\t<tr><td>Sigourney Weaver    </td><td>Actor               </td></tr>\n",
       "\t<tr><td>David Aston         </td><td>Actor               </td></tr>\n",
       "\t<tr><td>Ali Astin           </td><td>Actor               </td></tr>\n",
       "\t<tr><td>Alfred Hitchcock    </td><td>Director            </td></tr>\n",
       "\t<tr><td>Mel Gibson          </td><td>Director            </td></tr>\n",
       "\t<tr><td>David Lean          </td><td>Director            </td></tr>\n",
       "\t<tr><td>Jack Clayton        </td><td>Director            </td></tr>\n",
       "\t<tr><td>Robert Zemeckis     </td><td>Director            </td></tr>\n",
       "\t<tr><td>Michael Cimino      </td><td>Director            </td></tr>\n",
       "\t<tr><td>Hayao Miyazaki      </td><td>Director            </td></tr>\n",
       "\t<tr><td>Milos Forman        </td><td>Director            </td></tr>\n",
       "\t<tr><td>Akira Kurosawa      </td><td>Director            </td></tr>\n",
       "\t<tr><td>Ridley Scott        </td><td>Director            </td></tr>\n",
       "\t<tr><td>James Cameron       </td><td>Director            </td></tr>\n",
       "\t<tr><td>Stanley Kubrick     </td><td>Director            </td></tr>\n",
       "\t<tr><td>Kevin Spacey        </td><td>Director            </td></tr>\n",
       "\t<tr><td>Bryan Singer        </td><td>Director            </td></tr>\n",
       "\t<tr><td>Roman Polanski      </td><td>Director            </td></tr>\n",
       "\t<tr><td>Danny Boyle         </td><td>Director            </td></tr>\n",
       "\t<tr><td>Paul Thomas Anderson</td><td>Director            </td></tr>\n",
       "\t<tr><td>Christopher Nolan   </td><td>Director            </td></tr>\n",
       "\t<tr><td>Woody Allen         </td><td>Director            </td></tr>\n",
       "\t<tr><td>Frank Darabont      </td><td>Director            </td></tr>\n",
       "\t<tr><td>Sam Mendes          </td><td>Director            </td></tr>\n",
       "\t<tr><td>Gus Van Sant        </td><td>Director            </td></tr>\n",
       "\t<tr><td>John Boorman        </td><td>Director            </td></tr>\n",
       "</tbody>\n",
       "</table>\n"
      ],
      "text/latex": [
       "\\begin{tabular}{r|ll}\n",
       " Full Name & Role\\\\\n",
       "\\hline\n",
       "\t James Stewart        & Actor               \\\\\n",
       "\t Deborah Kerr         & Actor               \\\\\n",
       "\t Peter OToole         & Actor               \\\\\n",
       "\t Robert De Niro       & Actor               \\\\\n",
       "\t F. Murray Abraham    & Actor               \\\\\n",
       "\t Harrison Ford        & Actor               \\\\\n",
       "\t Nicole Kidman        & Actor               \\\\\n",
       "\t Stephen Baldwin      & Actor               \\\\\n",
       "\t Jack Nicholson       & Actor               \\\\\n",
       "\t Mark Wahlberg        & Actor               \\\\\n",
       "\t Woody Allen          & Actor               \\\\\n",
       "\t Claire Danes         & Actor               \\\\\n",
       "\t Tim Robbins          & Actor               \\\\\n",
       "\t Kevin Spacey         & Actor               \\\\\n",
       "\t Kate Winslet         & Actor               \\\\\n",
       "\t Robin Williams       & Actor               \\\\\n",
       "\t Jon Voight           & Actor               \\\\\n",
       "\t Ewan McGregor        & Actor               \\\\\n",
       "\t Christian Bale       & Actor               \\\\\n",
       "\t Maggie Gyllenhaal    & Actor               \\\\\n",
       "\t Dev Patel            & Actor               \\\\\n",
       "\t Sigourney Weaver     & Actor               \\\\\n",
       "\t David Aston          & Actor               \\\\\n",
       "\t Ali Astin            & Actor               \\\\\n",
       "\t Alfred Hitchcock     & Director            \\\\\n",
       "\t Mel Gibson           & Director            \\\\\n",
       "\t David Lean           & Director            \\\\\n",
       "\t Jack Clayton         & Director            \\\\\n",
       "\t Robert Zemeckis      & Director            \\\\\n",
       "\t Michael Cimino       & Director            \\\\\n",
       "\t Hayao Miyazaki       & Director            \\\\\n",
       "\t Milos Forman         & Director            \\\\\n",
       "\t Akira Kurosawa       & Director            \\\\\n",
       "\t Ridley Scott         & Director            \\\\\n",
       "\t James Cameron        & Director            \\\\\n",
       "\t Stanley Kubrick      & Director            \\\\\n",
       "\t Kevin Spacey         & Director            \\\\\n",
       "\t Bryan Singer         & Director            \\\\\n",
       "\t Roman Polanski       & Director            \\\\\n",
       "\t Danny Boyle          & Director            \\\\\n",
       "\t Paul Thomas Anderson & Director            \\\\\n",
       "\t Christopher Nolan    & Director            \\\\\n",
       "\t Woody Allen          & Director            \\\\\n",
       "\t Frank Darabont       & Director            \\\\\n",
       "\t Sam Mendes           & Director            \\\\\n",
       "\t Gus Van Sant         & Director            \\\\\n",
       "\t John Boorman         & Director            \\\\\n",
       "\\end{tabular}\n"
      ],
      "text/markdown": [
       "\n",
       "Full Name | Role | \n",
       "|---|---|---|---|---|---|---|---|---|---|---|---|---|---|---|---|---|---|---|---|---|---|---|---|---|---|---|---|---|---|---|---|---|---|---|---|---|---|---|---|---|---|---|---|---|---|---|\n",
       "| James Stewart        | Actor                | \n",
       "| Deborah Kerr         | Actor                | \n",
       "| Peter OToole         | Actor                | \n",
       "| Robert De Niro       | Actor                | \n",
       "| F. Murray Abraham    | Actor                | \n",
       "| Harrison Ford        | Actor                | \n",
       "| Nicole Kidman        | Actor                | \n",
       "| Stephen Baldwin      | Actor                | \n",
       "| Jack Nicholson       | Actor                | \n",
       "| Mark Wahlberg        | Actor                | \n",
       "| Woody Allen          | Actor                | \n",
       "| Claire Danes         | Actor                | \n",
       "| Tim Robbins          | Actor                | \n",
       "| Kevin Spacey         | Actor                | \n",
       "| Kate Winslet         | Actor                | \n",
       "| Robin Williams       | Actor                | \n",
       "| Jon Voight           | Actor                | \n",
       "| Ewan McGregor        | Actor                | \n",
       "| Christian Bale       | Actor                | \n",
       "| Maggie Gyllenhaal    | Actor                | \n",
       "| Dev Patel            | Actor                | \n",
       "| Sigourney Weaver     | Actor                | \n",
       "| David Aston          | Actor                | \n",
       "| Ali Astin            | Actor                | \n",
       "| Alfred Hitchcock     | Director             | \n",
       "| Mel Gibson           | Director             | \n",
       "| David Lean           | Director             | \n",
       "| Jack Clayton         | Director             | \n",
       "| Robert Zemeckis      | Director             | \n",
       "| Michael Cimino       | Director             | \n",
       "| Hayao Miyazaki       | Director             | \n",
       "| Milos Forman         | Director             | \n",
       "| Akira Kurosawa       | Director             | \n",
       "| Ridley Scott         | Director             | \n",
       "| James Cameron        | Director             | \n",
       "| Stanley Kubrick      | Director             | \n",
       "| Kevin Spacey         | Director             | \n",
       "| Bryan Singer         | Director             | \n",
       "| Roman Polanski       | Director             | \n",
       "| Danny Boyle          | Director             | \n",
       "| Paul Thomas Anderson | Director             | \n",
       "| Christopher Nolan    | Director             | \n",
       "| Woody Allen          | Director             | \n",
       "| Frank Darabont       | Director             | \n",
       "| Sam Mendes           | Director             | \n",
       "| Gus Van Sant         | Director             | \n",
       "| John Boorman         | Director             | \n",
       "\n",
       "\n"
      ],
      "text/plain": [
       "   Full Name            Role    \n",
       "1  James Stewart        Actor   \n",
       "2  Deborah Kerr         Actor   \n",
       "3  Peter OToole         Actor   \n",
       "4  Robert De Niro       Actor   \n",
       "5  F. Murray Abraham    Actor   \n",
       "6  Harrison Ford        Actor   \n",
       "7  Nicole Kidman        Actor   \n",
       "8  Stephen Baldwin      Actor   \n",
       "9  Jack Nicholson       Actor   \n",
       "10 Mark Wahlberg        Actor   \n",
       "11 Woody Allen          Actor   \n",
       "12 Claire Danes         Actor   \n",
       "13 Tim Robbins          Actor   \n",
       "14 Kevin Spacey         Actor   \n",
       "15 Kate Winslet         Actor   \n",
       "16 Robin Williams       Actor   \n",
       "17 Jon Voight           Actor   \n",
       "18 Ewan McGregor        Actor   \n",
       "19 Christian Bale       Actor   \n",
       "20 Maggie Gyllenhaal    Actor   \n",
       "21 Dev Patel            Actor   \n",
       "22 Sigourney Weaver     Actor   \n",
       "23 David Aston          Actor   \n",
       "24 Ali Astin            Actor   \n",
       "25 Alfred Hitchcock     Director\n",
       "26 Mel Gibson           Director\n",
       "27 David Lean           Director\n",
       "28 Jack Clayton         Director\n",
       "29 Robert Zemeckis      Director\n",
       "30 Michael Cimino       Director\n",
       "31 Hayao Miyazaki       Director\n",
       "32 Milos Forman         Director\n",
       "33 Akira Kurosawa       Director\n",
       "34 Ridley Scott         Director\n",
       "35 James Cameron        Director\n",
       "36 Stanley Kubrick      Director\n",
       "37 Kevin Spacey         Director\n",
       "38 Bryan Singer         Director\n",
       "39 Roman Polanski       Director\n",
       "40 Danny Boyle          Director\n",
       "41 Paul Thomas Anderson Director\n",
       "42 Christopher Nolan    Director\n",
       "43 Woody Allen          Director\n",
       "44 Frank Darabont       Director\n",
       "45 Sam Mendes           Director\n",
       "46 Gus Van Sant         Director\n",
       "47 John Boorman         Director"
      ]
     },
     "metadata": {},
     "output_type": "display_data"
    }
   ],
   "source": [
    "str.query = dbSendQuery(mydb, \"SELECT \n",
    "                                    CONCAT(act_fname,' ',act_lname) AS 'Full Name',\n",
    "                                    'Actor' AS Role\n",
    "                                FROM \n",
    "                                    actor\n",
    "                                UNION\n",
    "                                SELECT \n",
    "                                    CONCAT(dir_fname,' ',dir_lname) AS 'Full Name',\n",
    "                                    'Director' AS Role\n",
    "                                FROM \n",
    "                                    director\")\n",
    "movie.data = fetch(str.query, n=-1)\n",
    "movie.data"
   ]
  },
  {
   "cell_type": "code",
   "execution_count": null,
   "metadata": {},
   "outputs": [],
   "source": []
  }
 ],
 "metadata": {
  "kernelspec": {
   "display_name": "R",
   "language": "R",
   "name": "ir"
  },
  "language_info": {
   "codemirror_mode": "r",
   "file_extension": ".r",
   "mimetype": "text/x-r-source",
   "name": "R",
   "pygments_lexer": "r",
   "version": "3.5.1"
  }
 },
 "nbformat": 4,
 "nbformat_minor": 2
}
